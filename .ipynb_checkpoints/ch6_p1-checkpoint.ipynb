{
 "cells": [
  {
   "cell_type": "code",
   "execution_count": 1,
   "metadata": {},
   "outputs": [],
   "source": [
    "import numpy as np\n",
    "import pandas as pd\n",
    "import matplotlib.pyplot as plt\n",
    "import seaborn as sns\n",
    "import pystan\n",
    "\n",
    "%matplotlib inline\n",
    "custom_style = {'axes.labelcolor': 'white',\n",
    "                'xtick.color': 'white',\n",
    "                'ytick.color': 'white'}\n",
    "sns.set_style(\"darkgrid\", rc=custom_style)\n",
    "sns.set_context(\"notebook\")\n",
    "plt.style.use('dark_background')\n",
    "plt.rcParams[\"font.size\"] = 18\n",
    "np.random.seed(123)"
   ]
  },
  {
   "cell_type": "code",
   "execution_count": 3,
   "metadata": {},
   "outputs": [],
   "source": [
    "df = pd.read_csv('./data/ch6_p1.csv', header=None)\n",
    "df.columns = ['price']"
   ]
  },
  {
   "cell_type": "code",
   "execution_count": 4,
   "metadata": {},
   "outputs": [
    {
     "data": {
      "text/html": [
       "<div>\n",
       "<style scoped>\n",
       "    .dataframe tbody tr th:only-of-type {\n",
       "        vertical-align: middle;\n",
       "    }\n",
       "\n",
       "    .dataframe tbody tr th {\n",
       "        vertical-align: top;\n",
       "    }\n",
       "\n",
       "    .dataframe thead th {\n",
       "        text-align: right;\n",
       "    }\n",
       "</style>\n",
       "<table border=\"1\" class=\"dataframe\">\n",
       "  <thead>\n",
       "    <tr style=\"text-align: right;\">\n",
       "      <th></th>\n",
       "      <th>price</th>\n",
       "    </tr>\n",
       "  </thead>\n",
       "  <tbody>\n",
       "    <tr>\n",
       "      <th>0</th>\n",
       "      <td>76230</td>\n",
       "    </tr>\n",
       "    <tr>\n",
       "      <th>1</th>\n",
       "      <td>73550</td>\n",
       "    </tr>\n",
       "    <tr>\n",
       "      <th>2</th>\n",
       "      <td>80750</td>\n",
       "    </tr>\n",
       "    <tr>\n",
       "      <th>3</th>\n",
       "      <td>71500</td>\n",
       "    </tr>\n",
       "    <tr>\n",
       "      <th>4</th>\n",
       "      <td>75420</td>\n",
       "    </tr>\n",
       "    <tr>\n",
       "      <th>5</th>\n",
       "      <td>74840</td>\n",
       "    </tr>\n",
       "    <tr>\n",
       "      <th>6</th>\n",
       "      <td>71580</td>\n",
       "    </tr>\n",
       "    <tr>\n",
       "      <th>7</th>\n",
       "      <td>76920</td>\n",
       "    </tr>\n",
       "    <tr>\n",
       "      <th>8</th>\n",
       "      <td>68450</td>\n",
       "    </tr>\n",
       "    <tr>\n",
       "      <th>9</th>\n",
       "      <td>76990</td>\n",
       "    </tr>\n",
       "    <tr>\n",
       "      <th>10</th>\n",
       "      <td>64070</td>\n",
       "    </tr>\n",
       "    <tr>\n",
       "      <th>11</th>\n",
       "      <td>76200</td>\n",
       "    </tr>\n",
       "  </tbody>\n",
       "</table>\n",
       "</div>"
      ],
      "text/plain": [
       "    price\n",
       "0   76230\n",
       "1   73550\n",
       "2   80750\n",
       "3   71500\n",
       "4   75420\n",
       "5   74840\n",
       "6   71580\n",
       "7   76920\n",
       "8   68450\n",
       "9   76990\n",
       "10  64070\n",
       "11  76200"
      ]
     },
     "execution_count": 4,
     "metadata": {},
     "output_type": "execute_result"
    }
   ],
   "source": [
    "df"
   ]
  },
  {
   "cell_type": "code",
   "execution_count": 5,
   "metadata": {},
   "outputs": [],
   "source": [
    "stan_model = \"\"\"\n",
    "    data{\n",
    "        int N;\n",
    "        real X[N];\n",
    "    }\n",
    "    \n",
    "    parameters{\n",
    "        real mu;\n",
    "        real<lower=0> sigma;\n",
    "    }\n",
    "    \n",
    "    model{\n",
    "        for(n in 1:N){\n",
    "            X[n] ~ normal(mu, sigma);\n",
    "        }\n",
    "    }\n",
    "    \n",
    "    generated quantities{\n",
    "        real<lower=0, upper=1> mu_over1;\n",
    "        real<lower=0, upper=1> mu_over2;\n",
    "        \n",
    "        mu_over1 <- step(mu - 70000);\n",
    "        mu_over2 <- step(mu - 75000);\n",
    "    }\n",
    "\"\"\""
   ]
  },
  {
   "cell_type": "code",
   "execution_count": 6,
   "metadata": {},
   "outputs": [
    {
     "name": "stderr",
     "output_type": "stream",
     "text": [
      "INFO:pystan:COMPILING THE C++ CODE FOR MODEL anon_model_daa56690e0251fe9b2bbf86de2eb841f NOW.\n"
     ]
    }
   ],
   "source": [
    "sm = pystan.StanModel(model_code = stan_model)"
   ]
  },
  {
   "cell_type": "code",
   "execution_count": 7,
   "metadata": {},
   "outputs": [],
   "source": [
    "stan_data = {\"N\": df.shape[0], \"X\": df['price']}"
   ]
  },
  {
   "cell_type": "code",
   "execution_count": 8,
   "metadata": {},
   "outputs": [],
   "source": [
    "fit = sm.sampling(data=stan_data, iter=11000, warmup=1000, chains=3, seed=1234)"
   ]
  },
  {
   "cell_type": "code",
   "execution_count": 9,
   "metadata": {},
   "outputs": [
    {
     "data": {
      "text/plain": [
       "Inference for Stan model: anon_model_daa56690e0251fe9b2bbf86de2eb841f.\n",
       "3 chains, each with iter=11000; warmup=1000; thin=1; \n",
       "post-warmup draws per chain=10000, total post-warmup draws=30000.\n",
       "\n",
       "           mean se_mean     sd   2.5%    25%    50%    75%  97.5%  n_eff   Rhat\n",
       "mu        7.4e4   12.47 1512.1  7.1e4  7.3e4  7.4e4  7.5e4  7.7e4  14710    1.0\n",
       "sigma    5066.3   11.54 1298.6 3261.2 4165.1 4833.9 5700.5 8229.6  12674    1.0\n",
       "mu_over1   0.99  9.6e-4    0.1    1.0    1.0    1.0    1.0    1.0  10601    1.0\n",
       "mu_over2   0.21  3.0e-3   0.41    0.0    0.0    0.0    0.0    1.0  18661    1.0\n",
       "lp__     -98.99    0.01   1.11 -101.9 -99.41 -98.65 -98.21 -97.92   9566    1.0\n",
       "\n",
       "Samples were drawn using NUTS at Mon Aug 13 21:35:10 2018.\n",
       "For each parameter, n_eff is a crude measure of effective sample size,\n",
       "and Rhat is the potential scale reduction factor on split chains (at \n",
       "convergence, Rhat=1)."
      ]
     },
     "execution_count": 9,
     "metadata": {},
     "output_type": "execute_result"
    }
   ],
   "source": [
    "fit"
   ]
  },
  {
   "cell_type": "code",
   "execution_count": 39,
   "metadata": {},
   "outputs": [
    {
     "name": "stdout",
     "output_type": "stream",
     "text": [
      "EAP: 73860.3\n",
      "70000円を超える確率: 99.0%\n",
      "75000円を超える確率: 21.0%\n"
     ]
    }
   ],
   "source": [
    "arr = fit.get_posterior_mean()\n",
    "print(\"EAP: {0:.1f}\".format(np.average(arr[0])))\n",
    "print(\"70000円を超える確率: {0:.1%}\".format(np.average(arr[2])))\n",
    "print(\"75000円を超える確率: {0:.1%}\".format(np.average(arr[3])))"
   ]
  },
  {
   "cell_type": "code",
   "execution_count": 61,
   "metadata": {},
   "outputs": [],
   "source": [
    "data = fit.summary()"
   ]
  },
  {
   "cell_type": "code",
   "execution_count": 62,
   "metadata": {},
   "outputs": [],
   "source": [
    "df_summary = pd.DataFrame(data['summary'], columns=data['summary_colnames'], index=data['summary_rownames'])"
   ]
  },
  {
   "cell_type": "code",
   "execution_count": 63,
   "metadata": {},
   "outputs": [
    {
     "data": {
      "text/html": [
       "<div>\n",
       "<style scoped>\n",
       "    .dataframe tbody tr th:only-of-type {\n",
       "        vertical-align: middle;\n",
       "    }\n",
       "\n",
       "    .dataframe tbody tr th {\n",
       "        vertical-align: top;\n",
       "    }\n",
       "\n",
       "    .dataframe thead th {\n",
       "        text-align: right;\n",
       "    }\n",
       "</style>\n",
       "<table border=\"1\" class=\"dataframe\">\n",
       "  <thead>\n",
       "    <tr style=\"text-align: right;\">\n",
       "      <th></th>\n",
       "      <th>mean</th>\n",
       "      <th>se_mean</th>\n",
       "      <th>sd</th>\n",
       "      <th>2.5%</th>\n",
       "      <th>25%</th>\n",
       "      <th>50%</th>\n",
       "      <th>75%</th>\n",
       "      <th>97.5%</th>\n",
       "      <th>n_eff</th>\n",
       "      <th>Rhat</th>\n",
       "    </tr>\n",
       "  </thead>\n",
       "  <tbody>\n",
       "    <tr>\n",
       "      <th>mu</th>\n",
       "      <td>73860.258197</td>\n",
       "      <td>12.467496</td>\n",
       "      <td>1512.117580</td>\n",
       "      <td>70857.451586</td>\n",
       "      <td>72928.198819</td>\n",
       "      <td>73869.132646</td>\n",
       "      <td>74814.996424</td>\n",
       "      <td>76826.527835</td>\n",
       "      <td>14710.0</td>\n",
       "      <td>1.000357</td>\n",
       "    </tr>\n",
       "    <tr>\n",
       "      <th>sigma</th>\n",
       "      <td>5066.335879</td>\n",
       "      <td>11.535062</td>\n",
       "      <td>1298.604146</td>\n",
       "      <td>3261.214590</td>\n",
       "      <td>4165.129807</td>\n",
       "      <td>4833.931961</td>\n",
       "      <td>5700.578976</td>\n",
       "      <td>8229.688832</td>\n",
       "      <td>12674.0</td>\n",
       "      <td>1.000299</td>\n",
       "    </tr>\n",
       "    <tr>\n",
       "      <th>mu_over1</th>\n",
       "      <td>0.990233</td>\n",
       "      <td>0.000955</td>\n",
       "      <td>0.098344</td>\n",
       "      <td>1.000000</td>\n",
       "      <td>1.000000</td>\n",
       "      <td>1.000000</td>\n",
       "      <td>1.000000</td>\n",
       "      <td>1.000000</td>\n",
       "      <td>10601.0</td>\n",
       "      <td>1.000370</td>\n",
       "    </tr>\n",
       "    <tr>\n",
       "      <th>mu_over2</th>\n",
       "      <td>0.209767</td>\n",
       "      <td>0.002980</td>\n",
       "      <td>0.407149</td>\n",
       "      <td>0.000000</td>\n",
       "      <td>0.000000</td>\n",
       "      <td>0.000000</td>\n",
       "      <td>0.000000</td>\n",
       "      <td>1.000000</td>\n",
       "      <td>18661.0</td>\n",
       "      <td>1.000203</td>\n",
       "    </tr>\n",
       "    <tr>\n",
       "      <th>lp__</th>\n",
       "      <td>-98.987796</td>\n",
       "      <td>0.011305</td>\n",
       "      <td>1.105742</td>\n",
       "      <td>-101.979728</td>\n",
       "      <td>-99.410738</td>\n",
       "      <td>-98.649933</td>\n",
       "      <td>-98.206792</td>\n",
       "      <td>-97.917715</td>\n",
       "      <td>9566.0</td>\n",
       "      <td>1.000123</td>\n",
       "    </tr>\n",
       "  </tbody>\n",
       "</table>\n",
       "</div>"
      ],
      "text/plain": [
       "                  mean    se_mean           sd          2.5%           25%  \\\n",
       "mu        73860.258197  12.467496  1512.117580  70857.451586  72928.198819   \n",
       "sigma      5066.335879  11.535062  1298.604146   3261.214590   4165.129807   \n",
       "mu_over1      0.990233   0.000955     0.098344      1.000000      1.000000   \n",
       "mu_over2      0.209767   0.002980     0.407149      0.000000      0.000000   \n",
       "lp__        -98.987796   0.011305     1.105742   -101.979728    -99.410738   \n",
       "\n",
       "                   50%           75%         97.5%    n_eff      Rhat  \n",
       "mu        73869.132646  74814.996424  76826.527835  14710.0  1.000357  \n",
       "sigma      4833.931961   5700.578976   8229.688832  12674.0  1.000299  \n",
       "mu_over1      1.000000      1.000000      1.000000  10601.0  1.000370  \n",
       "mu_over2      0.000000      0.000000      1.000000  18661.0  1.000203  \n",
       "lp__        -98.649933    -98.206792    -97.917715   9566.0  1.000123  "
      ]
     },
     "execution_count": 63,
     "metadata": {},
     "output_type": "execute_result"
    }
   ],
   "source": [
    "df_summary"
   ]
  },
  {
   "cell_type": "code",
   "execution_count": null,
   "metadata": {},
   "outputs": [],
   "source": []
  }
 ],
 "metadata": {
  "kernelspec": {
   "display_name": "Python 3",
   "language": "python",
   "name": "python3"
  },
  "language_info": {
   "codemirror_mode": {
    "name": "ipython",
    "version": 3
   },
   "file_extension": ".py",
   "mimetype": "text/x-python",
   "name": "python",
   "nbconvert_exporter": "python",
   "pygments_lexer": "ipython3",
   "version": "3.6.5"
  }
 },
 "nbformat": 4,
 "nbformat_minor": 2
}
