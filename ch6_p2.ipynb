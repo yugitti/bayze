{
 "cells": [
  {
   "cell_type": "code",
   "execution_count": 1,
   "metadata": {},
   "outputs": [],
   "source": [
    "import numpy as np\n",
    "import pandas as pd\n",
    "import matplotlib.pyplot as plt\n",
    "import seaborn as sns\n",
    "import pystan\n",
    "\n",
    "%matplotlib inline\n",
    "custom_style = {'axes.labelcolor': 'white',\n",
    "                'xtick.color': 'white',\n",
    "                'ytick.color': 'white'}\n",
    "sns.set_style(\"darkgrid\", rc=custom_style)\n",
    "sns.set_context(\"notebook\")\n",
    "plt.style.use('dark_background')\n",
    "plt.rcParams[\"font.size\"] = 18\n",
    "np.random.seed(123)"
   ]
  },
  {
   "cell_type": "code",
   "execution_count": 3,
   "metadata": {},
   "outputs": [],
   "source": [
    "df = pd.read_csv('./data/ch6_p2.csv', header=None)\n",
    "df.columns = ['weight']"
   ]
  },
  {
   "cell_type": "code",
   "execution_count": 16,
   "metadata": {},
   "outputs": [],
   "source": [
    "stan_model = \"\"\"\n",
    "    data{\n",
    "        int N;\n",
    "        real X[N];\n",
    "    }\n",
    "    \n",
    "    parameters{\n",
    "        real<lower=0> sigma;\n",
    "    }\n",
    "    \n",
    "    transformed parameters{\n",
    "        real<lower=0> sigmasq;\n",
    "        sigmasq <- pow(sigma, 2);\n",
    "    }\n",
    "    \n",
    "    model{\n",
    "        for(n in 1:N){\n",
    "            X[n] ~ normal(130, sigma);\n",
    "        }\n",
    "    }\n",
    "    \n",
    "    generated quantities{\n",
    "        real<lower=0, upper=1> sigmasq_over1;\n",
    "        real<lower=0, upper=1> sigmasq_over2;\n",
    "        \n",
    "        sigmasq_over1 <- step( 1.0 - sigmasq);\n",
    "        sigmasq_over2 <- step( 1.5 - sigmasq);\n",
    "    }\n",
    "\"\"\""
   ]
  },
  {
   "cell_type": "code",
   "execution_count": 17,
   "metadata": {},
   "outputs": [
    {
     "name": "stderr",
     "output_type": "stream",
     "text": [
      "INFO:pystan:COMPILING THE C++ CODE FOR MODEL anon_model_4a5bb49340c293ce4e7dbc5b3463deda NOW.\n"
     ]
    }
   ],
   "source": [
    "sm = pystan.StanModel(model_code = stan_model)"
   ]
  },
  {
   "cell_type": "code",
   "execution_count": 18,
   "metadata": {},
   "outputs": [],
   "source": [
    "stan_data = {\"N\": df.shape[0], \"X\": df['weight']}"
   ]
  },
  {
   "cell_type": "code",
   "execution_count": 19,
   "metadata": {},
   "outputs": [
    {
     "name": "stderr",
     "output_type": "stream",
     "text": [
      "/Users/yugi/.pyenv/versions/anaconda-4.0.0/envs/py36/lib/python3.6/site-packages/pystan/misc.py:399: FutureWarning: Conversion of the second argument of issubdtype from `float` to `np.floating` is deprecated. In future, it will be treated as `np.float64 == np.dtype(float).type`.\n",
      "  elif np.issubdtype(np.asarray(v).dtype, float):\n"
     ]
    }
   ],
   "source": [
    "fit = sm.sampling(data=stan_data, iter=11000, warmup=1000, chains=3, seed=1234)"
   ]
  },
  {
   "cell_type": "code",
   "execution_count": 20,
   "metadata": {},
   "outputs": [
    {
     "data": {
      "text/plain": [
       "Inference for Stan model: anon_model_4a5bb49340c293ce4e7dbc5b3463deda.\n",
       "3 chains, each with iter=11000; warmup=1000; thin=1; \n",
       "post-warmup draws per chain=10000, total post-warmup draws=30000.\n",
       "\n",
       "                mean se_mean     sd   2.5%    25%    50%    75%  97.5%  n_eff   Rhat\n",
       "sigma           1.12  2.1e-3   0.19   0.82   0.98   1.09   1.23   1.58   8701    1.0\n",
       "sigmasq          1.3  5.2e-3   0.48   0.67   0.97    1.2   1.51   2.49   8545    1.0\n",
       "sigmasq_over1   0.28  4.2e-3   0.45    0.0    0.0    0.0    1.0    1.0  11554    1.0\n",
       "sigmasq_over2   0.74  4.2e-3   0.44    0.0    0.0    1.0    1.0    1.0  10901    1.0\n",
       "lp__          -11.42  6.6e-3   0.72 -13.46 -11.59 -11.14 -10.97 -10.91  11980    1.0\n",
       "\n",
       "Samples were drawn using NUTS at Mon Aug 13 23:11:52 2018.\n",
       "For each parameter, n_eff is a crude measure of effective sample size,\n",
       "and Rhat is the potential scale reduction factor on split chains (at \n",
       "convergence, Rhat=1)."
      ]
     },
     "execution_count": 20,
     "metadata": {},
     "output_type": "execute_result"
    }
   ],
   "source": [
    "fit"
   ]
  },
  {
   "cell_type": "code",
   "execution_count": null,
   "metadata": {},
   "outputs": [],
   "source": []
  }
 ],
 "metadata": {
  "kernelspec": {
   "display_name": "Python 3",
   "language": "python",
   "name": "python3"
  },
  "language_info": {
   "codemirror_mode": {
    "name": "ipython",
    "version": 3
   },
   "file_extension": ".py",
   "mimetype": "text/x-python",
   "name": "python",
   "nbconvert_exporter": "python",
   "pygments_lexer": "ipython3",
   "version": "3.6.5"
  }
 },
 "nbformat": 4,
 "nbformat_minor": 2
}
