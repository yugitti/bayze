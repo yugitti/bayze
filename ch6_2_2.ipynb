{
 "cells": [
  {
   "cell_type": "code",
   "execution_count": 1,
   "metadata": {},
   "outputs": [],
   "source": [
    "import numpy as np\n",
    "import pandas as pd\n",
    "import matplotlib.pyplot as plt\n",
    "import seaborn as sns\n",
    "import pystan\n",
    "\n",
    "%matplotlib inline\n",
    "custom_style = {'axes.labelcolor': 'white',\n",
    "                'xtick.color': 'white',\n",
    "                'ytick.color': 'white'}\n",
    "sns.set_style(\"darkgrid\", rc=custom_style)\n",
    "sns.set_context(\"notebook\")\n",
    "plt.style.use('dark_background')\n",
    "plt.rcParams[\"font.size\"] = 18\n",
    "np.random.seed(123)"
   ]
  },
  {
   "cell_type": "code",
   "execution_count": 16,
   "metadata": {},
   "outputs": [],
   "source": [
    "df = pd.read_csv('./data/ch6_2_2.csv', header=None)\n",
    "df = df.T\n",
    "df.columns = ['x1', 'x2']"
   ]
  },
  {
   "cell_type": "code",
   "execution_count": 19,
   "metadata": {},
   "outputs": [
    {
     "data": {
      "text/plain": [
       "(20, 2)"
      ]
     },
     "execution_count": 19,
     "metadata": {},
     "output_type": "execute_result"
    }
   ],
   "source": [
    "df.shape"
   ]
  },
  {
   "cell_type": "code",
   "execution_count": 133,
   "metadata": {},
   "outputs": [],
   "source": [
    "stan_model = \"\"\"\n",
    "    data { \n",
    "        int<lower=0>  N;    \n",
    "        vector[2] X[N];       \n",
    "    }\n",
    "    \n",
    "    parameters {\n",
    "        vector[2]           mu;\n",
    "        vector<lower=0>[2]  sigma;\n",
    "        real<lower=-1,upper=1>    rho;\n",
    "    }\n",
    "    \n",
    "    transformed parameters {\n",
    "        vector<lower=0>[2] sigmasq;\n",
    "        matrix[2,2]      Sigma;\n",
    "\n",
    "        sigmasq[1] = pow(sigma[1],2);\n",
    "        sigmasq[2] = pow(sigma[2],2);\n",
    "        Sigma[1,1] = sigmasq[1];\n",
    "        Sigma[2,2] = sigmasq[2];\n",
    "        Sigma[1,2] = sigma[1]*sigma[2]*rho;\n",
    "        Sigma[2,1] = sigma[1]*sigma[2]*rho;\n",
    "    }\n",
    "    \n",
    "    model {\n",
    "        for(i in 1:N){\n",
    "            X[i] ~ multi_normal(mu,Sigma);\n",
    "        }\n",
    "    }\n",
    "    \n",
    "    generated quantities{\n",
    "        real delta;\n",
    "        real delta_over;\n",
    "        real delta_over2;\n",
    "        real rho_over;\n",
    "        real rho_over05;\n",
    "\n",
    "        delta = mu[2] - mu[1];\n",
    "        delta_over = step(delta);\n",
    "        delta_over2 = delta>2 ? 1 : 0;\n",
    "        rho_over = step(rho);\n",
    "        rho_over05 = rho>0.5 ? 1 : 0;\n",
    "    }\n",
    "\"\"\""
   ]
  },
  {
   "cell_type": "code",
   "execution_count": 111,
   "metadata": {},
   "outputs": [
    {
     "name": "stderr",
     "output_type": "stream",
     "text": [
      "INFO:pystan:COMPILING THE C++ CODE FOR MODEL anon_model_1d718054f5397f38db695f83708f77f9 NOW.\n"
     ]
    }
   ],
   "source": [
    "sm = pystan.StanModel(model_code = stan_model2)"
   ]
  },
  {
   "cell_type": "code",
   "execution_count": 130,
   "metadata": {},
   "outputs": [],
   "source": [
    "stan_data = {\"N\": df.shape[0], \"X\": np.array(df[['x1', 'x2']])}"
   ]
  },
  {
   "cell_type": "code",
   "execution_count": 131,
   "metadata": {},
   "outputs": [],
   "source": [
    "fit = sm.sampling(data=stan_data, iter=11000, warmup=1000, chains=3, seed=1234)"
   ]
  },
  {
   "cell_type": "code",
   "execution_count": 132,
   "metadata": {},
   "outputs": [
    {
     "data": {
      "text/plain": [
       "Inference for Stan model: anon_model_1d718054f5397f38db695f83708f77f9.\n",
       "3 chains, each with iter=11000; warmup=1000; thin=1; \n",
       "post-warmup draws per chain=10000, total post-warmup draws=30000.\n",
       "\n",
       "              mean se_mean     sd   2.5%    25%    50%    75%  97.5%  n_eff   Rhat\n",
       "mu[0]        10.16  7.3e-3   0.89   8.42   9.58  10.15  10.72  11.95  15096    1.0\n",
       "mu[1]        11.95  6.8e-3   0.85  10.26   11.4  11.95   12.5  13.64  15673    1.0\n",
       "sigma[0]      3.87  5.7e-3   0.69    2.8   3.38   3.77   4.24   5.47  14836    1.0\n",
       "sigma[1]      3.72  5.5e-3   0.66    2.7   3.26   3.64   4.09   5.28  14145    1.0\n",
       "rho            0.7  9.8e-4   0.12    0.4   0.63   0.72   0.79   0.88  16052    1.0\n",
       "sigmasq[0]   15.44    0.05   5.82   7.85  11.44  14.22  17.99  29.96  14027    1.0\n",
       "sigmasq[1]    14.3    0.05   5.33    7.3  10.62  13.22  16.71  27.87  13315    1.0\n",
       "Sigma[0,0]   15.44    0.05   5.82   7.85  11.44  14.22  17.99  29.96  14027    1.0\n",
       "Sigma[1,0]   10.48    0.05    4.7   4.14   7.25   9.61   12.6  22.17  10864    1.0\n",
       "Sigma[0,1]   10.48    0.05    4.7   4.14   7.25   9.61   12.6  22.17  10864    1.0\n",
       "Sigma[1,1]    14.3    0.05   5.33    7.3  10.62  13.22  16.71  27.87  13315    1.0\n",
       "delta         1.79  3.8e-3   0.66   0.48   1.37   1.79   2.22   3.11  30000    1.0\n",
       "delta_over    0.99  4.6e-4   0.07    1.0    1.0    1.0    1.0    1.0  26115    1.0\n",
       "delta_over2   0.37  2.8e-3   0.48    0.0    0.0    0.0    1.0    1.0  30000    1.0\n",
       "rho_over       1.0  1.4e-4   0.02    1.0    1.0    1.0    1.0    1.0  16678    1.0\n",
       "rho_over05    0.93  1.8e-3   0.26    0.0    1.0    1.0    1.0    1.0  20968    1.0\n",
       "lp__        -63.05    0.02   1.72 -67.27 -63.94  -62.7 -61.78 -60.81  11158    1.0\n",
       "\n",
       "Samples were drawn using NUTS at Mon Aug 13 18:45:21 2018.\n",
       "For each parameter, n_eff is a crude measure of effective sample size,\n",
       "and Rhat is the potential scale reduction factor on split chains (at \n",
       "convergence, Rhat=1)."
      ]
     },
     "execution_count": 132,
     "metadata": {},
     "output_type": "execute_result"
    }
   ],
   "source": [
    "fit"
   ]
  },
  {
   "cell_type": "code",
   "execution_count": null,
   "metadata": {},
   "outputs": [],
   "source": []
  }
 ],
 "metadata": {
  "kernelspec": {
   "display_name": "Python 3",
   "language": "python",
   "name": "python3"
  },
  "language_info": {
   "codemirror_mode": {
    "name": "ipython",
    "version": 3
   },
   "file_extension": ".py",
   "mimetype": "text/x-python",
   "name": "python",
   "nbconvert_exporter": "python",
   "pygments_lexer": "ipython3",
   "version": "3.6.5"
  }
 },
 "nbformat": 4,
 "nbformat_minor": 2
}
