{
 "cells": [
  {
   "cell_type": "code",
   "execution_count": 27,
   "metadata": {},
   "outputs": [],
   "source": [
    "import numpy as np\n",
    "import pandas as pd\n",
    "import matplotlib.pyplot as plt\n",
    "import seaborn as sns\n",
    "from IPython.html.widgets import interact\n",
    "%matplotlib inline\n",
    "custom_style = {'axes.labelcolor': 'white',\n",
    "                'xtick.color': 'white',\n",
    "                'ytick.color': 'white'}\n",
    "sns.set_style(\"darkgrid\", rc=custom_style)\n",
    "sns.set_context(\"notebook\")\n",
    "plt.style.use('dark_background')"
   ]
  },
  {
   "cell_type": "code",
   "execution_count": 20,
   "metadata": {},
   "outputs": [],
   "source": [
    "np.random.seed(123)"
   ]
  },
  {
   "cell_type": "code",
   "execution_count": 13,
   "metadata": {},
   "outputs": [
    {
     "name": "stdout",
     "output_type": "stream",
     "text": [
      "0.82\n"
     ]
    }
   ],
   "source": [
    "MMC = 100\n",
    "xmc = np.random.rand(MMC)\n",
    "ymc = np.random.rand(MMC)\n",
    "r = (xmc **2 + ymc ** 2) ** 0.5\n",
    "accept = np.where(r <=1, 1, 0)\n",
    "accept_ratio = np.sum(accept) / MMC\n",
    "print(accept_ratio)"
   ]
  },
  {
   "cell_type": "code",
   "execution_count": 28,
   "metadata": {},
   "outputs": [
    {
     "data": {
      "application/vnd.jupyter.widget-view+json": {
       "model_id": "845f4210f4644f16a0cdcc5645d298a7",
       "version_major": 2,
       "version_minor": 0
      },
      "text/plain": [
       "interactive(children=(IntSlider(value=0, description='mcs'), Output()), _dom_classes=('widget-interact',))"
      ]
     },
     "metadata": {},
     "output_type": "display_data"
    }
   ],
   "source": [
    "MMC = 100\n",
    "xmc = np.random.rand(MMC)\n",
    "ymc = np.random.rand(MMC)\n",
    "@interact(mcs=(0, MMC, 1))\n",
    "def animation(mcs=0):\n",
    "    plt.figure(figsize=(6,6))\n",
    "    plt.xlim([0,1])\n",
    "    plt.ylim([0,1])\n",
    "    x = np.arange(0,1, 0.001)\n",
    "    y = (1 - x**2)**0.5\n",
    "    y2 = np.ones(x.shape[0])\n",
    "    plt.plot(x,y)\n",
    "    plt.fill_between(x, y, alpha=0.3, color='yellowgreen')\n",
    "    plt.fill_between(x, y, y2, alpha=0.3, color='deepskyblue')\n",
    "    r = (xmc[:mcs]**2 + ymc[:mcs]**2)**0.5\n",
    "    accept = np.where(r <=1, 1, 0)\n",
    "    accept_ratio = np.sum(accept) / mcs\n",
    "    plt.scatter(xmc[:mcs], ymc[:mcs], color='white', marker=\".\")\n",
    "    print(\"monte carlo\", accept_ratio)\n",
    "    print(\"analytical solution\", np.pi / 4.0)"
   ]
  },
  {
   "cell_type": "code",
   "execution_count": 29,
   "metadata": {},
   "outputs": [
    {
     "data": {
      "text/plain": [
       "Text(0,0.5,'accept ratio')"
      ]
     },
     "execution_count": 29,
     "metadata": {},
     "output_type": "execute_result"
    },
    {
     "data": {
      "image/png": "[encoded data removed]",
      "text/plain": [
       "<Figure size 432x288 with 1 Axes>"
      ]
     },
     "metadata": {},
     "output_type": "display_data"
    }
   ],
   "source": [
    "pi_mcs = []\n",
    "NMC = 20000\n",
    "xmc = np.random.rand(NMC)\n",
    "ymc = np.random.rand(NMC)\n",
    "for mcs in range(1,NMC):\n",
    "    r = (xmc[:mcs] ** 2 + ymc[:mcs] ** 2) ** 0.5\n",
    "    accept = np.where(r<=1, 1, 0)\n",
    "    accept_ratio = np.sum(accept) / mcs\n",
    "    pi_mcs.append(accept_ratio)\n",
    "\n",
    "pi_x = np.arange(len(pi_mcs)) + 1\n",
    "\n",
    "plt.plot(pi_x, pi_mcs)\n",
    "plt.hlines(0.785, pi_x[0], pi_x[-1], linestyles=\"dashed\")\n",
    "plt.xlabel(\"MCS\")\n",
    "plt.ylabel(\"accept ratio\")"
   ]
  },
  {
   "cell_type": "code",
   "execution_count": null,
   "metadata": {},
   "outputs": [],
   "source": []
  }
 ],
 "metadata": {
  "kernelspec": {
   "display_name": "Python 3",
   "language": "python",
   "name": "python3"
  },
  "language_info": {
   "codemirror_mode": {
    "name": "ipython",
    "version": 3
   },
   "file_extension": ".py",
   "mimetype": "text/x-python",
   "name": "python",
   "nbconvert_exporter": "python",
   "pygments_lexer": "ipython3",
   "version": "3.6.5"
  }
 },
 "nbformat": 4,
 "nbformat_minor": 2
}
