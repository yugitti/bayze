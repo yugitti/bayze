{
 "cells": [
  {
   "cell_type": "code",
   "execution_count": 1,
   "metadata": {},
   "outputs": [],
   "source": [
    "import numpy as np\n",
    "import pandas as pd\n",
    "import matplotlib.pyplot as plt\n",
    "import seaborn as sns\n",
    "import pystan\n",
    "\n",
    "%matplotlib inline\n",
    "custom_style = {'axes.labelcolor': 'white',\n",
    "                'xtick.color': 'white',\n",
    "                'ytick.color': 'white'}\n",
    "sns.set_style(\"darkgrid\", rc=custom_style)\n",
    "sns.set_context(\"notebook\")\n",
    "plt.style.use('dark_background')\n",
    "plt.rcParams[\"font.size\"] = 18\n",
    "np.random.seed(123)"
   ]
  },
  {
   "cell_type": "code",
   "execution_count": 44,
   "metadata": {},
   "outputs": [],
   "source": [
    "df = pd.read_csv('./data/ch7_1_2_.csv', header=None)\n",
    "df = df.T"
   ]
  },
  {
   "cell_type": "code",
   "execution_count": 45,
   "metadata": {},
   "outputs": [],
   "source": [
    "df.columns = ['A', 'B']"
   ]
  },
  {
   "cell_type": "code",
   "execution_count": 21,
   "metadata": {},
   "outputs": [],
   "source": [
    "stan_model = \"\"\"\n",
    "    data{\n",
    "        int<lower=0> N1;\n",
    "        int<lower=0> N2;\n",
    "        \n",
    "        int<lower=0> XA[N1];\n",
    "        int<lower=0> XB[N2];\n",
    "    }\n",
    "    \n",
    "    parameters{\n",
    "        real<lower=0> lambda_A;\n",
    "        real<lower=0> lambda_B;\n",
    "    }\n",
    "        \n",
    "    model{\n",
    "        for(n in 1:N1){\n",
    "            XA[n] ~ poisson(lambda_A);\n",
    "            XB[n] ~ poisson(lambda_B);\n",
    "\n",
    "        }\n",
    "    }\n",
    "    \n",
    "    generated quantities{\n",
    "        real u;\n",
    "        real<lower=0, upper=1> p;\n",
    "        u <- lambda_B - lambda_A;\n",
    "        p <- step(u);\n",
    "    }\n",
    "\"\"\""
   ]
  },
  {
   "cell_type": "code",
   "execution_count": 22,
   "metadata": {},
   "outputs": [
    {
     "name": "stderr",
     "output_type": "stream",
     "text": [
      "INFO:pystan:COMPILING THE C++ CODE FOR MODEL anon_model_f4dde5431faa143935aad3b3b2c0ceb8 NOW.\n"
     ]
    }
   ],
   "source": [
    "sm = pystan.StanModel(model_code = stan_model)"
   ]
  },
  {
   "cell_type": "code",
   "execution_count": 46,
   "metadata": {},
   "outputs": [],
   "source": [
    "stan_data = {\"N1\": df.shape[0], \"N2\": df.shape[0], \"XA\": df['A'], \"XB\": df['B']}\n",
    "fit = sm.sampling(data=stan_data, iter=11000, warmup=1000, chains=3, seed=1234)"
   ]
  },
  {
   "cell_type": "code",
   "execution_count": 49,
   "metadata": {},
   "outputs": [
    {
     "data": {
      "text/plain": [
       "Inference for Stan model: anon_model_f4dde5431faa143935aad3b3b2c0ceb8.\n",
       "3 chains, each with iter=11000; warmup=1000; thin=1; \n",
       "post-warmup draws per chain=10000, total post-warmup draws=30000.\n",
       "\n",
       "           mean se_mean     sd   2.5%    25%    50%    75%  97.5%  n_eff   Rhat\n",
       "lambda_A   0.23  5.4e-4   0.09   0.09   0.17   0.22   0.28   0.43  26238    1.0\n",
       "lambda_B   0.67  9.3e-4   0.15   0.41   0.56   0.66   0.76   0.99  25849    1.0\n",
       "u          0.43  1.1e-3   0.17   0.11   0.32   0.43   0.55   0.79  26594    1.0\n",
       "p           1.0  4.2e-4   0.06    1.0    1.0    1.0    1.0    1.0  21718    1.0\n",
       "lp__     -46.31  8.7e-3   1.02  -49.0 -46.71  -46.0 -45.59 -45.32  13547    1.0\n",
       "\n",
       "Samples were drawn using NUTS at Tue Aug 14 23:22:02 2018.\n",
       "For each parameter, n_eff is a crude measure of effective sample size,\n",
       "and Rhat is the potential scale reduction factor on split chains (at \n",
       "convergence, Rhat=1)."
      ]
     },
     "execution_count": 49,
     "metadata": {},
     "output_type": "execute_result"
    }
   ],
   "source": [
    "fit"
   ]
  },
  {
   "cell_type": "code",
   "execution_count": null,
   "metadata": {},
   "outputs": [],
   "source": []
  }
 ],
 "metadata": {
  "kernelspec": {
   "display_name": "Python 3",
   "language": "python",
   "name": "python3"
  },
  "language_info": {
   "codemirror_mode": {
    "name": "ipython",
    "version": 3
   },
   "file_extension": ".py",
   "mimetype": "text/x-python",
   "name": "python",
   "nbconvert_exporter": "python",
   "pygments_lexer": "ipython3",
   "version": "3.6.5"
  }
 },
 "nbformat": 4,
 "nbformat_minor": 2
}
