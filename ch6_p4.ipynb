{
 "cells": [
  {
   "cell_type": "code",
   "execution_count": 1,
   "metadata": {},
   "outputs": [],
   "source": [
    "import numpy as np\n",
    "import pandas as pd\n",
    "import matplotlib.pyplot as plt\n",
    "import seaborn as sns\n",
    "import pystan\n",
    "\n",
    "%matplotlib inline\n",
    "custom_style = {'axes.labelcolor': 'white',\n",
    "                'xtick.color': 'white',\n",
    "                'ytick.color': 'white'}\n",
    "sns.set_style(\"darkgrid\", rc=custom_style)\n",
    "sns.set_context(\"notebook\")\n",
    "plt.style.use('dark_background')\n",
    "plt.rcParams[\"font.size\"] = 18\n",
    "np.random.seed(123)"
   ]
  },
  {
   "cell_type": "code",
   "execution_count": 2,
   "metadata": {},
   "outputs": [],
   "source": [
    "df = pd.read_csv('./data/ch6_2_1.csv', header=None)\n",
    "df = df.T\n",
    "df.columns = ['x1', 'x2']\n",
    "# x1 = np.array(df['x1']).astype(np.float)\n",
    "# x2 = np.array(df['x2']).astype(np.float)"
   ]
  },
  {
   "cell_type": "code",
   "execution_count": 3,
   "metadata": {},
   "outputs": [],
   "source": [
    "stan_model = \"\"\"\n",
    "    data{\n",
    "        int N1;\n",
    "        int N2;\n",
    "        real X1[N1];\n",
    "        real X2[N2];\n",
    "    }\n",
    "    \n",
    "    parameters{\n",
    "        real mu1;\n",
    "        real mu2;\n",
    "        real<lower=0> sigma1;\n",
    "#        real<lower=0> sigma2;\n",
    "    }\n",
    "    \n",
    "    model{\n",
    "        for(n in 1:N1){\n",
    "            X1[n] ~ normal(mu1, sigma1);\n",
    "        }\n",
    "        for(n in 1:N2){\n",
    "            X2[n] ~ normal(mu2, sigma1);\n",
    "#            X2[n] ~ normal(mu2, sigma2);\n",
    "        }\n",
    "#        X1 ~ normal(mu1, sigma1);\n",
    "#        X2 ~ normal(mu2, sigma2);\n",
    "\n",
    "    }\n",
    "    \n",
    "    generated quantities{\n",
    "        real mu_delta;\n",
    "        real<lower=0, upper=1> u_0;\n",
    "        real<lower=0, upper=1> u_1;\n",
    "\n",
    "        mu_delta <- mu2 - mu1;\n",
    "        u_0 <- step(mu_delta - 0);\n",
    "        u_1 <- step(mu_delta - 1);\n",
    "\n",
    "    }\n",
    "\"\"\""
   ]
  },
  {
   "cell_type": "code",
   "execution_count": 4,
   "metadata": {},
   "outputs": [
    {
     "name": "stderr",
     "output_type": "stream",
     "text": [
      "INFO:pystan:COMPILING THE C++ CODE FOR MODEL anon_model_04ff8c98382d23d731a8902ef5b039e1 NOW.\n"
     ]
    }
   ],
   "source": [
    "sm = pystan.StanModel(model_code = stan_model)"
   ]
  },
  {
   "cell_type": "code",
   "execution_count": 6,
   "metadata": {},
   "outputs": [
    {
     "name": "stderr",
     "output_type": "stream",
     "text": [
      "/Users/yugi/.pyenv/versions/anaconda-4.0.0/envs/py36/lib/python3.6/site-packages/pystan/misc.py:399: FutureWarning: Conversion of the second argument of issubdtype from `float` to `np.floating` is deprecated. In future, it will be treated as `np.float64 == np.dtype(float).type`.\n",
      "  elif np.issubdtype(np.asarray(v).dtype, float):\n"
     ]
    }
   ],
   "source": [
    "stan_data = {\"N1\": df.shape[0], \"N2\": df.shape[0], \"X1\": df['x1'], \"X2\": df['x2']}\n",
    "fit = sm.sampling(data=stan_data, iter=11000, warmup=1000, chains=3, seed=1234)"
   ]
  },
  {
   "cell_type": "code",
   "execution_count": 7,
   "metadata": {},
   "outputs": [
    {
     "data": {
      "text/plain": [
       "Inference for Stan model: anon_model_04ff8c98382d23d731a8902ef5b039e1.\n",
       "3 chains, each with iter=11000; warmup=1000; thin=1; \n",
       "post-warmup draws per chain=10000, total post-warmup draws=30000.\n",
       "\n",
       "           mean se_mean     sd   2.5%    25%    50%    75%  97.5%  n_eff   Rhat\n",
       "mu1       30.84  1.9e-3   0.31  30.22  30.63  30.84  31.04  31.45  27120    1.0\n",
       "mu2       31.98  1.9e-3   0.32  31.36  31.77  31.98  32.19   32.6  27198    1.0\n",
       "sigma1      1.4  1.1e-3   0.17   1.12   1.28   1.38    1.5   1.77  23615    1.0\n",
       "mu_delta   1.15  2.7e-3   0.44   0.27   0.85   1.15   1.44   2.01  27352    1.0\n",
       "u_0        0.99  4.7e-4   0.07    1.0    1.0    1.0    1.0    1.0  24717    1.0\n",
       "u_1        0.63  2.9e-3   0.48    0.0    0.0    1.0    1.0    1.0  28003    1.0\n",
       "lp__     -32.34    0.01   1.28 -35.67  -32.9 -32.01 -31.41  -30.9  13281    1.0\n",
       "\n",
       "Samples were drawn using NUTS at Tue Aug 14 08:29:10 2018.\n",
       "For each parameter, n_eff is a crude measure of effective sample size,\n",
       "and Rhat is the potential scale reduction factor on split chains (at \n",
       "convergence, Rhat=1)."
      ]
     },
     "execution_count": 7,
     "metadata": {},
     "output_type": "execute_result"
    }
   ],
   "source": [
    "fit"
   ]
  },
  {
   "cell_type": "code",
   "execution_count": null,
   "metadata": {},
   "outputs": [],
   "source": []
  }
 ],
 "metadata": {
  "kernelspec": {
   "display_name": "Python 3",
   "language": "python",
   "name": "python3"
  },
  "language_info": {
   "codemirror_mode": {
    "name": "ipython",
    "version": 3
   },
   "file_extension": ".py",
   "mimetype": "text/x-python",
   "name": "python",
   "nbconvert_exporter": "python",
   "pygments_lexer": "ipython3",
   "version": "3.6.5"
  }
 },
 "nbformat": 4,
 "nbformat_minor": 2
}
