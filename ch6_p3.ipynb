{
 "cells": [
  {
   "cell_type": "code",
   "execution_count": 1,
   "metadata": {},
   "outputs": [],
   "source": [
    "import numpy as np\n",
    "import pandas as pd\n",
    "import matplotlib.pyplot as plt\n",
    "import seaborn as sns\n",
    "import pystan\n",
    "\n",
    "%matplotlib inline\n",
    "custom_style = {'axes.labelcolor': 'white',\n",
    "                'xtick.color': 'white',\n",
    "                'ytick.color': 'white'}\n",
    "sns.set_style(\"darkgrid\", rc=custom_style)\n",
    "sns.set_context(\"notebook\")\n",
    "plt.style.use('dark_background')\n",
    "plt.rcParams[\"font.size\"] = 18\n",
    "np.random.seed(123)"
   ]
  },
  {
   "cell_type": "code",
   "execution_count": 2,
   "metadata": {},
   "outputs": [],
   "source": [
    "df = pd.read_csv('./data/ch6_p3.csv', header=None)\n",
    "df.columns = ['score']"
   ]
  },
  {
   "cell_type": "code",
   "execution_count": 6,
   "metadata": {},
   "outputs": [],
   "source": [
    "stan_model = \"\"\"\n",
    "    data{\n",
    "        int N;\n",
    "        real X[N];\n",
    "    }\n",
    "    \n",
    "    parameters{\n",
    "        real mu;\n",
    "        real<lower=0> sigma;\n",
    "    }\n",
    "    \n",
    "    model{\n",
    "        for(n in 1:N){\n",
    "            X[n] ~ normal(mu, sigma);\n",
    "        }\n",
    "    }\n",
    "    \n",
    "    generated quantities{\n",
    "        real<lower=0> score_90;\n",
    "        real<lower=0, upper=1> b_prob;\n",
    "        \n",
    "        score_90 <- mu + 1.282 * sigma;\n",
    "        b_prob <- 1 - normal_cdf(score_90, 87, 5);\n",
    "    }\n",
    "\"\"\""
   ]
  },
  {
   "cell_type": "code",
   "execution_count": 7,
   "metadata": {},
   "outputs": [
    {
     "name": "stderr",
     "output_type": "stream",
     "text": [
      "INFO:pystan:COMPILING THE C++ CODE FOR MODEL anon_model_04e7ed9727dd144da98f1084187969c4 NOW.\n"
     ]
    }
   ],
   "source": [
    "sm = pystan.StanModel(model_code = stan_model)"
   ]
  },
  {
   "cell_type": "code",
   "execution_count": 9,
   "metadata": {},
   "outputs": [],
   "source": [
    "stan_data = {\"N\": df.shape[0], \"X\": df['score']}"
   ]
  },
  {
   "cell_type": "code",
   "execution_count": 10,
   "metadata": {},
   "outputs": [],
   "source": [
    "fit = sm.sampling(data=stan_data, iter=11000, warmup=1000, chains=3, seed=1234)"
   ]
  },
  {
   "cell_type": "code",
   "execution_count": 11,
   "metadata": {},
   "outputs": [
    {
     "data": {
      "text/plain": [
       "Inference for Stan model: anon_model_04e7ed9727dd144da98f1084187969c4.\n",
       "3 chains, each with iter=11000; warmup=1000; thin=1; \n",
       "post-warmup draws per chain=10000, total post-warmup draws=30000.\n",
       "\n",
       "           mean se_mean     sd   2.5%    25%    50%    75%  97.5%  n_eff   Rhat\n",
       "mu        82.79  8.2e-3   1.22  80.39  81.99   82.8   83.6  85.19  22173    1.0\n",
       "sigma      6.64  6.2e-3   0.93   5.12   5.99   6.54   7.18   8.75  22811    1.0\n",
       "score_90  91.31    0.01   1.71  88.39  90.11  91.17  92.35  95.05  22707    1.0\n",
       "b_prob     0.21  5.6e-4   0.09   0.05   0.14    0.2   0.27   0.39  25211    1.0\n",
       "lp__     -69.16  9.3e-3   1.04 -71.99 -69.56 -68.84 -68.42 -68.15  12596    1.0\n",
       "\n",
       "Samples were drawn using NUTS at Tue Aug 14 08:16:14 2018.\n",
       "For each parameter, n_eff is a crude measure of effective sample size,\n",
       "and Rhat is the potential scale reduction factor on split chains (at \n",
       "convergence, Rhat=1)."
      ]
     },
     "execution_count": 11,
     "metadata": {},
     "output_type": "execute_result"
    }
   ],
   "source": [
    "fit"
   ]
  },
  {
   "cell_type": "code",
   "execution_count": 17,
   "metadata": {},
   "outputs": [
    {
     "name": "stderr",
     "output_type": "stream",
     "text": [
      "/Users/yugi/.pyenv/versions/anaconda-4.0.0/envs/py36/lib/python3.6/site-packages/matplotlib/axes/_axes.py:6462: UserWarning: The 'normed' kwarg is deprecated, and has been replaced by the 'density' kwarg.\n",
      "  warnings.warn(\"The 'normed' kwarg is deprecated, and has been \"\n"
     ]
    },
    {
     "data": {
      "text/plain": [
       "<matplotlib.collections.LineCollection at 0x1321efcc0>"
      ]
     },
     "execution_count": 17,
     "metadata": {},
     "output_type": "execute_result"
    },
    {
     "data": {
      "image/png": "[encoded data removed]",
      "text/plain": [
       "<Figure size 432x288 with 1 Axes>"
      ]
     },
     "metadata": {},
     "output_type": "display_data"
    }
   ],
   "source": [
    "la = fit.extract(permuted=True) # サンプル列\n",
    "names = fit.model_pars #パラメーター名from scipy.stats import norm, gamma\n",
    "from scipy.stats import norm, gamma\n",
    "u = la['mu'].mean()\n",
    "s = la['mu'].std()\n",
    "sns.distplot(la['mu'][:5000], kde=True,rug=True, norm_hist=False, bins=40)\n",
    "x = np.linspace(norm.ppf(0.01, loc=u, scale=s), norm.ppf(0.999, loc=u, scale=s), 100)\n",
    "plt.plot(x, norm.pdf(x=x, loc=u, scale=s))\n",
    "plt.vlines(la['score_90'].mean(), 0, 0.35, colors='yellowgreen')\n",
    "plt.vlines(87, 0, 0.35, colors='deepskyblue')"
   ]
  },
  {
   "cell_type": "code",
   "execution_count": null,
   "metadata": {},
   "outputs": [],
   "source": []
  }
 ],
 "metadata": {
  "kernelspec": {
   "display_name": "Python 3",
   "language": "python",
   "name": "python3"
  },
  "language_info": {
   "codemirror_mode": {
    "name": "ipython",
    "version": 3
   },
   "file_extension": ".py",
   "mimetype": "text/x-python",
   "name": "python",
   "nbconvert_exporter": "python",
   "pygments_lexer": "ipython3",
   "version": "3.6.5"
  }
 },
 "nbformat": 4,
 "nbformat_minor": 2
}
