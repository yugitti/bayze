{
 "cells": [
  {
   "cell_type": "code",
   "execution_count": 1,
   "metadata": {},
   "outputs": [],
   "source": [
    "import numpy as np\n",
    "import pandas as pd\n",
    "import matplotlib.pyplot as plt\n",
    "import seaborn as sns\n",
    "import pystan\n",
    "\n",
    "%matplotlib inline\n",
    "custom_style = {'axes.labelcolor': 'white',\n",
    "                'xtick.color': 'white',\n",
    "                'ytick.color': 'white'}\n",
    "sns.set_style(\"darkgrid\", rc=custom_style)\n",
    "sns.set_context(\"notebook\")\n",
    "plt.style.use('dark_background')\n",
    "plt.rcParams[\"font.size\"] = 18\n",
    "np.random.seed(123)"
   ]
  },
  {
   "cell_type": "code",
   "execution_count": 6,
   "metadata": {},
   "outputs": [
    {
     "name": "stdout",
     "output_type": "stream",
     "text": [
      "ch6_1_1_.csv  ch6_2_10.csv  ch6_p2.csv    ch7_1_2_.csv\r\n",
      "ch6_1_2.csv   ch6_2_2.csv   ch6_p3.csv    \u001b[31mreadme.txt\u001b[m\u001b[m*\r\n",
      "ch6_1_3.csv   ch6_300.csv   ch6_p5.csv    \u001b[34mscr_09\u001b[m\u001b[m/\r\n",
      "ch6_2_1.csv   ch6_p1.csv    ch7_1_1_.csv  \u001b[34mscr_12\u001b[m\u001b[m/\r\n"
     ]
    }
   ],
   "source": [
    "%ls ./data/"
   ]
  },
  {
   "cell_type": "code",
   "execution_count": 9,
   "metadata": {},
   "outputs": [],
   "source": [
    "df = pd.read_csv('./data/ch6_1_1.csv', header=None)\n",
    "df.columns = ['cost']"
   ]
  },
  {
   "cell_type": "code",
   "execution_count": 10,
   "metadata": {},
   "outputs": [
    {
     "name": "stderr",
     "output_type": "stream",
     "text": [
      "/Users/yugi/.pyenv/versions/anaconda-4.0.0/envs/py36/lib/python3.6/site-packages/matplotlib/axes/_axes.py:6462: UserWarning: The 'normed' kwarg is deprecated, and has been replaced by the 'density' kwarg.\n",
      "  warnings.warn(\"The 'normed' kwarg is deprecated, and has been \"\n"
     ]
    },
    {
     "data": {
      "text/plain": [
       "<matplotlib.axes._subplots.AxesSubplot at 0x116b0a160>"
      ]
     },
     "execution_count": 10,
     "metadata": {},
     "output_type": "execute_result"
    },
    {
     "data": {
      "image/png": "[encoded data removed]",
      "text/plain": [
       "<Figure size 432x288 with 1 Axes>"
      ]
     },
     "metadata": {},
     "output_type": "display_data"
    }
   ],
   "source": [
    "sns.distplot(df['cost'], kde=False, bins=10)"
   ]
  },
  {
   "cell_type": "code",
   "execution_count": 11,
   "metadata": {},
   "outputs": [],
   "source": [
    "stan_model = \"\"\"\n",
    "    data{\n",
    "        int N;\n",
    "        real X[N];\n",
    "    }\n",
    "    \n",
    "    parameters{\n",
    "        real mu;\n",
    "        real<lower=0> sigma;\n",
    "    }\n",
    "    \n",
    "    model{\n",
    "        for(n in 1:N){\n",
    "            X[n] ~ normal(mu, sigma);\n",
    "        }\n",
    "    }\n",
    "    \n",
    "    generated quantities{\n",
    "        real<lower=0, upper=1> mu_over1;\n",
    "        real<lower=0, upper=1> mu_over2;\n",
    "        real es;\n",
    "        real<lower=0, upper=1> es_over;\n",
    "        \n",
    "        mu_over1 <- step(mu - 2500);\n",
    "        mu_over2 <- step(mu - 3000);\n",
    "        es <- (mu - 2500)/sigma;\n",
    "        es_over <- step(es - 0.8);\n",
    "    }\n",
    "\"\"\""
   ]
  },
  {
   "cell_type": "code",
   "execution_count": 12,
   "metadata": {},
   "outputs": [
    {
     "name": "stderr",
     "output_type": "stream",
     "text": [
      "INFO:pystan:COMPILING THE C++ CODE FOR MODEL anon_model_4f5f1df3130befd603a36a740fbeaaa1 NOW.\n"
     ]
    }
   ],
   "source": [
    "sm = pystan.StanModel(model_code = stan_model)"
   ]
  },
  {
   "cell_type": "code",
   "execution_count": 13,
   "metadata": {},
   "outputs": [],
   "source": [
    "stan_data = {\"N\": df.shape[0], \"X\": df['cost']}"
   ]
  },
  {
   "cell_type": "code",
   "execution_count": 14,
   "metadata": {},
   "outputs": [],
   "source": [
    "fit = sm.sampling(data=stan_data, iter=11000, warmup=1000, chains=3, seed=1234)"
   ]
  },
  {
   "cell_type": "code",
   "execution_count": 15,
   "metadata": {},
   "outputs": [
    {
     "data": {
      "text/plain": [
       "Inference for Stan model: anon_model_4f5f1df3130befd603a36a740fbeaaa1.\n",
       "3 chains, each with iter=11000; warmup=1000; thin=1; \n",
       "post-warmup draws per chain=10000, total post-warmup draws=30000.\n",
       "\n",
       "           mean se_mean     sd   2.5%    25%    50%    75%  97.5%  n_eff   Rhat\n",
       "mu       2927.0    1.32 186.46 2558.1 2806.3 2927.6 3047.3 3296.2  19839    1.0\n",
       "sigma    814.13    1.06 144.78 588.36 712.15 794.09 894.89 1149.9  18668    1.0\n",
       "mu_over1   0.99  8.4e-4   0.11    1.0    1.0    1.0    1.0    1.0  17114    1.0\n",
       "mu_over2   0.34  3.1e-3   0.47    0.0    0.0    0.0    1.0    1.0  23570    1.0\n",
       "es         0.54  1.6e-3   0.24   0.07   0.38   0.54   0.71   1.01  22262    1.0\n",
       "es_over    0.14  2.4e-3   0.35    0.0    0.0    0.0    0.0    1.0  22286    1.0\n",
       "lp__     -136.5  9.9e-3   1.05 -139.3 -136.9 -136.1 -135.7 -135.4  11427    1.0\n",
       "\n",
       "Samples were drawn using NUTS at Thu Sep 13 23:23:33 2018.\n",
       "For each parameter, n_eff is a crude measure of effective sample size,\n",
       "and Rhat is the potential scale reduction factor on split chains (at \n",
       "convergence, Rhat=1)."
      ]
     },
     "execution_count": 15,
     "metadata": {},
     "output_type": "execute_result"
    }
   ],
   "source": [
    "fit"
   ]
  },
  {
   "cell_type": "code",
   "execution_count": 16,
   "metadata": {},
   "outputs": [
    {
     "data": {
      "text/plain": [
       "array([[ 2.92292671e+03,  2.93109915e+03,  2.92720888e+03],\n",
       "       [ 8.13617912e+02,  8.14512578e+02,  8.14254381e+02],\n",
       "       [ 9.86200000e-01,  9.87700000e-01,  9.89300000e-01],\n",
       "       [ 3.33200000e-01,  3.50200000e-01,  3.40300000e-01],\n",
       "       [ 5.35036942e-01,  5.45209523e-01,  5.39692429e-01],\n",
       "       [ 1.38600000e-01,  1.48800000e-01,  1.44500000e-01],\n",
       "       [-1.36500198e+02, -1.36543031e+02, -1.36502360e+02]])"
      ]
     },
     "execution_count": 16,
     "metadata": {},
     "output_type": "execute_result"
    }
   ],
   "source": [
    "arr = fit.get_posterior_mean()\n",
    "arr"
   ]
  },
  {
   "cell_type": "code",
   "execution_count": 17,
   "metadata": {},
   "outputs": [],
   "source": [
    "la = fit.extract(permuted=True) # サンプル列\n",
    "names = fit.model_pars #パラメーター名"
   ]
  },
  {
   "cell_type": "code",
   "execution_count": 18,
   "metadata": {},
   "outputs": [
    {
     "name": "stderr",
     "output_type": "stream",
     "text": [
      "/Users/yugi/.pyenv/versions/anaconda-4.0.0/envs/py36/lib/python3.6/site-packages/matplotlib/axes/_axes.py:6462: UserWarning: The 'normed' kwarg is deprecated, and has been replaced by the 'density' kwarg.\n",
      "  warnings.warn(\"The 'normed' kwarg is deprecated, and has been \"\n"
     ]
    },
    {
     "data": {
      "text/plain": [
       "[<matplotlib.lines.Line2D at 0x11a164128>]"
      ]
     },
     "execution_count": 18,
     "metadata": {},
     "output_type": "execute_result"
    },
    {
     "data": {
      "image/png": "[encoded data removed]",
      "text/plain": [
       "<Figure size 432x288 with 1 Axes>"
      ]
     },
     "metadata": {},
     "output_type": "display_data"
    }
   ],
   "source": [
    "from scipy.stats import norm, gamma\n",
    "u = la['mu'].mean()\n",
    "s = la['mu'].std()\n",
    "sns.distplot(la['mu'][:5000], kde=True,rug=True, norm_hist=False, bins=40)\n",
    "x = np.linspace(norm.ppf(0.01, loc=u, scale=s), norm.ppf(0.999, loc=u, scale=s), 100)\n",
    "plt.plot(x, norm.pdf(x=x, loc=u, scale=s))"
   ]
  },
  {
   "cell_type": "code",
   "execution_count": 19,
   "metadata": {},
   "outputs": [
    {
     "ename": "NameError",
     "evalue": "name 'a' is not defined",
     "output_type": "error",
     "traceback": [
      "\u001b[0;31m---------------------------------------------------------------------------\u001b[0m",
      "\u001b[0;31mNameError\u001b[0m                                 Traceback (most recent call last)",
      "\u001b[0;32m<ipython-input-19-70b74aa782fd>\u001b[0m in \u001b[0;36m<module>\u001b[0;34m()\u001b[0m\n\u001b[1;32m      1\u001b[0m \u001b[0;31m# https://jb102.blogspot.com/2017/10/22-histogram.html\u001b[0m\u001b[0;34m\u001b[0m\u001b[0;34m\u001b[0m\u001b[0m\n\u001b[0;32m----> 2\u001b[0;31m \u001b[0mweights\u001b[0m \u001b[0;34m=\u001b[0m \u001b[0mnp\u001b[0m\u001b[0;34m.\u001b[0m\u001b[0mones\u001b[0m\u001b[0;34m(\u001b[0m\u001b[0mlen\u001b[0m\u001b[0;34m(\u001b[0m\u001b[0ma\u001b[0m\u001b[0;34m)\u001b[0m\u001b[0;34m)\u001b[0m\u001b[0;34m/\u001b[0m\u001b[0mfloat\u001b[0m\u001b[0;34m(\u001b[0m\u001b[0mlen\u001b[0m\u001b[0;34m(\u001b[0m\u001b[0ma\u001b[0m\u001b[0;34m)\u001b[0m\u001b[0;34m)\u001b[0m\u001b[0;34m\u001b[0m\u001b[0m\n\u001b[0m\u001b[1;32m      3\u001b[0m \u001b[0mplt\u001b[0m\u001b[0;34m.\u001b[0m\u001b[0mhist\u001b[0m\u001b[0;34m(\u001b[0m \u001b[0ma\u001b[0m\u001b[0;34m,\u001b[0m \u001b[0mweights\u001b[0m\u001b[0;34m=\u001b[0m\u001b[0mweights\u001b[0m \u001b[0;34m)\u001b[0m\u001b[0;34m\u001b[0m\u001b[0m\n",
      "\u001b[0;31mNameError\u001b[0m: name 'a' is not defined"
     ]
    }
   ],
   "source": [
    "# https://jb102.blogspot.com/2017/10/22-histogram.html\n",
    "weights = np.ones(len(a))/float(len(a))\n",
    "plt.hist( a, weights=weights )"
   ]
  },
  {
   "cell_type": "code",
   "execution_count": 24,
   "metadata": {},
   "outputs": [],
   "source": [
    "uu = df['cost'].mean()\n",
    "ss = df['cost'].std()"
   ]
  },
  {
   "cell_type": "code",
   "execution_count": 30,
   "metadata": {},
   "outputs": [
    {
     "name": "stdout",
     "output_type": "stream",
     "text": [
      "ベイズ平均:  2927.0782477230937,  通常平均:  2926.5\n",
      "ベイズ偏差:  814.1282899971615,  通常偏差:  756.8721994602454\n"
     ]
    }
   ],
   "source": [
    "print('ベイズ平均:  {},  通常平均:  {}'.format(u, uu))\n",
    "print('ベイズ偏差:  {},  通常偏差:  {}'.format(la['sigma'].mean(), ss))"
   ]
  },
  {
   "cell_type": "code",
   "execution_count": 32,
   "metadata": {},
   "outputs": [
    {
     "name": "stderr",
     "output_type": "stream",
     "text": [
      "/Users/yugi/.pyenv/versions/anaconda-4.0.0/envs/py36/lib/python3.6/site-packages/matplotlib/axes/_axes.py:6462: UserWarning: The 'normed' kwarg is deprecated, and has been replaced by the 'density' kwarg.\n",
      "  warnings.warn(\"The 'normed' kwarg is deprecated, and has been \"\n"
     ]
    },
    {
     "data": {
      "text/plain": [
       "[<matplotlib.lines.Line2D at 0x11e3a6dd8>]"
      ]
     },
     "execution_count": 32,
     "metadata": {},
     "output_type": "execute_result"
    },
    {
     "data": {
      "image/png": "[encoded data removed]",
      "text/plain": [
       "<Figure size 432x288 with 1 Axes>"
      ]
     },
     "metadata": {},
     "output_type": "display_data"
    }
   ],
   "source": [
    "mu = la['mu'].mean()\n",
    "sig = la['sigma'].mean()\n",
    "sns.distplot(df['cost'], kde=True,rug=True, norm_hist=False, bins=5)\n",
    "x = np.linspace(norm.ppf(0.01, loc=mu, scale=sig), norm.ppf(0.999, loc=mu, scale=sig), 100)\n",
    "plt.plot(x, norm.pdf(x=x, loc=mu, scale=sig))"
   ]
  },
  {
   "cell_type": "code",
   "execution_count": null,
   "metadata": {},
   "outputs": [],
   "source": []
  }
 ],
 "metadata": {
  "kernelspec": {
   "display_name": "Python 3",
   "language": "python",
   "name": "python3"
  },
  "language_info": {
   "codemirror_mode": {
    "name": "ipython",
    "version": 3
   },
   "file_extension": ".py",
   "mimetype": "text/x-python",
   "name": "python",
   "nbconvert_exporter": "python",
   "pygments_lexer": "ipython3",
   "version": "3.6.5"
  }
 },
 "nbformat": 4,
 "nbformat_minor": 2
}
