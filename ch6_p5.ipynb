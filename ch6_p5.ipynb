{
 "cells": [
  {
   "cell_type": "code",
   "execution_count": 1,
   "metadata": {},
   "outputs": [],
   "source": [
    "import numpy as np\n",
    "import pandas as pd\n",
    "import matplotlib.pyplot as plt\n",
    "import seaborn as sns\n",
    "import pystan\n",
    "\n",
    "%matplotlib inline\n",
    "custom_style = {'axes.labelcolor': 'white',\n",
    "                'xtick.color': 'white',\n",
    "                'ytick.color': 'white'}\n",
    "sns.set_style(\"darkgrid\", rc=custom_style)\n",
    "sns.set_context(\"notebook\")\n",
    "plt.style.use('dark_background')\n",
    "plt.rcParams[\"font.size\"] = 18\n",
    "np.random.seed(123)"
   ]
  },
  {
   "cell_type": "code",
   "execution_count": 24,
   "metadata": {},
   "outputs": [],
   "source": [
    "df = pd.read_csv('./data/ch6_p5.csv', header=None)\n",
    "df.columns = ['weights']"
   ]
  },
  {
   "cell_type": "code",
   "execution_count": 60,
   "metadata": {},
   "outputs": [],
   "source": [
    "a = np.array(df).reshape(20,2, order='F')\n",
    "df = pd.DataFrame(a, columns=['before', 'after'])"
   ]
  },
  {
   "cell_type": "code",
   "execution_count": 69,
   "metadata": {},
   "outputs": [],
   "source": [
    "stan_model = \"\"\"\n",
    "    data{\n",
    "        int N;\n",
    "        vector<lower=0>[2] X[N];\n",
    "    }\n",
    "    \n",
    "    parameters{\n",
    "        vector[2] mu;\n",
    "        vector<lower=0>[2] sigma;\n",
    "        real<lower=-1,upper=1>    rho;\n",
    "    }\n",
    "    \n",
    "    transformed parameters{\n",
    "        vector<lower=0>[2] sigmasq;\n",
    "        matrix[2,2] Sigma;\n",
    "\n",
    "        sigmasq[1] = pow(sigma[1], 2);\n",
    "        sigmasq[2] = pow(sigma[2], 2);\n",
    "        Sigma[1,1] = sigmasq[1];\n",
    "        Sigma[2,2] = sigmasq[2];\n",
    "        Sigma[1,2] = sigma[1] * sigma[2] * rho;\n",
    "        Sigma[2,1] = sigma[1] * sigma[2] * rho;\n",
    "\n",
    "    }\n",
    "    \n",
    "    model{\n",
    "        for(n in 1:N){\n",
    "            X[n] ~ multi_normal(mu, Sigma);\n",
    "        }\n",
    "    }\n",
    "    \n",
    "    generated quantities{\n",
    "        real mu_delta;\n",
    "        real<lower=0, upper=1> mu_delta_0;\n",
    "        real<lower=0, upper=1> mu_delta_2;\n",
    "        \n",
    "        mu_delta = -(mu[2] - mu[1]);\n",
    "        mu_delta_0 <- step(mu_delta  - 0);\n",
    "        mu_delta_2 <- step(mu_delta - 2);\n",
    "    }\n",
    "\"\"\""
   ]
  },
  {
   "cell_type": "code",
   "execution_count": 70,
   "metadata": {},
   "outputs": [
    {
     "name": "stderr",
     "output_type": "stream",
     "text": [
      "INFO:pystan:COMPILING THE C++ CODE FOR MODEL anon_model_d6c8c61026974599fda194058adcc750 NOW.\n"
     ]
    }
   ],
   "source": [
    "sm = pystan.StanModel(model_code = stan_model)"
   ]
  },
  {
   "cell_type": "code",
   "execution_count": 72,
   "metadata": {},
   "outputs": [],
   "source": [
    "stan_data = {\"N\": df.shape[0], \"X\": df[['before', 'after']]}"
   ]
  },
  {
   "cell_type": "code",
   "execution_count": 73,
   "metadata": {},
   "outputs": [
    {
     "name": "stderr",
     "output_type": "stream",
     "text": [
      "/Users/yugi/.pyenv/versions/anaconda-4.0.0/envs/py36/lib/python3.6/site-packages/pystan/misc.py:399: FutureWarning: Conversion of the second argument of issubdtype from `float` to `np.floating` is deprecated. In future, it will be treated as `np.float64 == np.dtype(float).type`.\n",
      "  elif np.issubdtype(np.asarray(v).dtype, float):\n"
     ]
    }
   ],
   "source": [
    "fit = sm.sampling(data=stan_data, iter=11000, warmup=1000, chains=3, seed=1234)"
   ]
  },
  {
   "cell_type": "code",
   "execution_count": 74,
   "metadata": {},
   "outputs": [
    {
     "data": {
      "text/plain": [
       "Inference for Stan model: anon_model_d6c8c61026974599fda194058adcc750.\n",
       "3 chains, each with iter=11000; warmup=1000; thin=1; \n",
       "post-warmup draws per chain=10000, total post-warmup draws=30000.\n",
       "\n",
       "             mean se_mean     sd   2.5%    25%    50%    75%  97.5%  n_eff   Rhat\n",
       "mu[0]       51.65    0.01   1.23   49.2  50.85  51.65  52.47  54.07  14840    1.0\n",
       "mu[1]       50.67    0.01   1.32  48.03  49.82  50.68  51.53  53.32  15042    1.0\n",
       "sigma[0]     5.42  8.2e-3   0.95   3.95   4.75   5.29   5.95   7.62  13622    1.0\n",
       "sigma[1]     5.82  8.7e-3   1.02   4.22   5.09   5.68   6.38   8.22  13750    1.0\n",
       "rho          0.74  9.2e-4   0.11   0.47   0.68   0.76   0.82    0.9  14447    1.0\n",
       "sigmasq[0]  30.33     0.1  11.34  15.57  22.59  28.01  35.46   58.0  13021    1.0\n",
       "sigmasq[1]  34.86    0.11  12.88  17.81  25.95  32.21  40.72  67.57  13164    1.0\n",
       "Sigma[0,0]  30.33     0.1  11.34  15.57  22.59  28.01  35.46   58.0  13021    1.0\n",
       "Sigma[1,0]  24.34     0.1  10.42  10.26  17.22  22.33  29.11  50.23  10671    1.0\n",
       "Sigma[0,1]  24.34     0.1  10.42  10.26  17.22  22.33  29.11  50.23  10671    1.0\n",
       "Sigma[1,1]  34.86    0.11  12.88  17.81  25.95  32.21  40.72  67.57  13164    1.0\n",
       "mu_delta     0.98  5.3e-3   0.92  -0.83   0.39   0.97   1.57    2.8  30000    1.0\n",
       "mu_delta_0   0.87  2.2e-3   0.34    0.0    1.0    1.0    1.0    1.0  23934    1.0\n",
       "mu_delta_2   0.13  2.1e-3   0.33    0.0    0.0    0.0    0.0    1.0  25524    1.0\n",
       "lp__       -76.74    0.02   1.71 -81.01 -77.61 -76.39 -75.49 -74.51  10961    1.0\n",
       "\n",
       "Samples were drawn using NUTS at Tue Aug 14 09:15:08 2018.\n",
       "For each parameter, n_eff is a crude measure of effective sample size,\n",
       "and Rhat is the potential scale reduction factor on split chains (at \n",
       "convergence, Rhat=1)."
      ]
     },
     "execution_count": 74,
     "metadata": {},
     "output_type": "execute_result"
    }
   ],
   "source": [
    "fit"
   ]
  },
  {
   "cell_type": "code",
   "execution_count": null,
   "metadata": {},
   "outputs": [],
   "source": []
  }
 ],
 "metadata": {
  "kernelspec": {
   "display_name": "Python 3",
   "language": "python",
   "name": "python3"
  },
  "language_info": {
   "codemirror_mode": {
    "name": "ipython",
    "version": 3
   },
   "file_extension": ".py",
   "mimetype": "text/x-python",
   "name": "python",
   "nbconvert_exporter": "python",
   "pygments_lexer": "ipython3",
   "version": "3.6.5"
  }
 },
 "nbformat": 4,
 "nbformat_minor": 2
}
