{
 "cells": [
  {
   "cell_type": "code",
   "execution_count": 1,
   "metadata": {},
   "outputs": [],
   "source": [
    "import numpy as np\n",
    "import pandas as pd\n",
    "import matplotlib.pyplot as plt\n",
    "import seaborn as sns\n",
    "import pystan\n",
    "\n",
    "%matplotlib inline\n",
    "custom_style = {'axes.labelcolor': 'white',\n",
    "                'xtick.color': 'white',\n",
    "                'ytick.color': 'white'}\n",
    "sns.set_style(\"darkgrid\", rc=custom_style)\n",
    "sns.set_context(\"notebook\")\n",
    "plt.style.use('dark_background')\n",
    "plt.rcParams[\"font.size\"] = 18\n",
    "np.random.seed(123)"
   ]
  },
  {
   "cell_type": "code",
   "execution_count": 68,
   "metadata": {},
   "outputs": [],
   "source": [
    "df = pd.read_csv('./data/ch6_2_1.csv', header=None)\n",
    "df = df.T\n",
    "df.columns = ['x1', 'x2']\n",
    "# x1 = np.array(df['x1']).astype(np.float)\n",
    "# x2 = np.array(df['x2']).astype(np.float)"
   ]
  },
  {
   "cell_type": "code",
   "execution_count": 75,
   "metadata": {},
   "outputs": [],
   "source": [
    "stan_model = \"\"\"\n",
    "    data{\n",
    "        int N1;\n",
    "        int N2;\n",
    "        real X1[N1];\n",
    "        real X2[N2];\n",
    "    }\n",
    "    \n",
    "    parameters{\n",
    "        real mu1;\n",
    "        real mu2;\n",
    "        real<lower=0> sigma1;\n",
    "        real<lower=0> sigma2;\n",
    "    }\n",
    "    \n",
    "    model{\n",
    "        for(n in 1:N1){\n",
    "            X1[n] ~ normal(mu1, sigma1);\n",
    "        }\n",
    "        for(n in 1:N2){\n",
    "            X2[n] ~ normal(mu2, sigma2);\n",
    "        }\n",
    "#        X1 ~ normal(mu1, sigma1);\n",
    "#        X2 ~ normal(mu2, sigma2);\n",
    "\n",
    "    }\n",
    "    \n",
    "    generated quantities{\n",
    "        real mu_delta;\n",
    "        real<lower=0, upper=1> u_0;\n",
    "        real<lower=0, upper=1> u_1;\n",
    "\n",
    "        mu_delta <- mu2 - mu1;\n",
    "        u_0 <- step(mu_delta - 0);\n",
    "        u_1 <- step(mu_delta - 1);\n",
    "\n",
    "    }\n",
    "\"\"\""
   ]
  },
  {
   "cell_type": "code",
   "execution_count": 76,
   "metadata": {},
   "outputs": [
    {
     "name": "stderr",
     "output_type": "stream",
     "text": [
      "INFO:pystan:COMPILING THE C++ CODE FOR MODEL anon_model_cf283ac7c025d4139df6406f5496966f NOW.\n"
     ]
    }
   ],
   "source": [
    "sm = pystan.StanModel(model_code = stan_model)"
   ]
  },
  {
   "cell_type": "code",
   "execution_count": 77,
   "metadata": {},
   "outputs": [],
   "source": [
    "stan_data = {\"N1\": df.shape[0], \"N2\": df.shape[0], \"X1\": df['x1'], \"X2\": df['x2']}"
   ]
  },
  {
   "cell_type": "code",
   "execution_count": 78,
   "metadata": {},
   "outputs": [
    {
     "name": "stderr",
     "output_type": "stream",
     "text": [
      "/Users/yugi/.pyenv/versions/anaconda-4.0.0/envs/py36/lib/python3.6/site-packages/pystan/misc.py:399: FutureWarning: Conversion of the second argument of issubdtype from `float` to `np.floating` is deprecated. In future, it will be treated as `np.float64 == np.dtype(float).type`.\n",
      "  elif np.issubdtype(np.asarray(v).dtype, float):\n"
     ]
    }
   ],
   "source": [
    "fit = sm.sampling(data=stan_data, iter=11000, warmup=1000, chains=3, seed=1234)"
   ]
  },
  {
   "cell_type": "code",
   "execution_count": 79,
   "metadata": {},
   "outputs": [
    {
     "data": {
      "text/plain": [
       "Inference for Stan model: anon_model_cf283ac7c025d4139df6406f5496966f.\n",
       "3 chains, each with iter=11000; warmup=1000; thin=1; \n",
       "post-warmup draws per chain=10000, total post-warmup draws=30000.\n",
       "\n",
       "           mean se_mean     sd   2.5%    25%    50%    75%  97.5%  n_eff   Rhat\n",
       "mu1       30.84  1.6e-3   0.25  30.35  30.68  30.84   31.0  31.33  23016    1.0\n",
       "mu2       31.98  2.4e-3   0.39  31.21  31.73  31.98  32.23  32.75  27019    1.0\n",
       "sigma1     1.09  1.2e-3    0.2   0.79   0.95   1.06    1.2   1.55  24619    1.0\n",
       "sigma2     1.74  2.0e-3   0.31   1.26   1.52    1.7   1.92   2.45  23852    1.0\n",
       "mu_delta   1.14  2.9e-3   0.46   0.23   0.84   1.14   1.45   2.06  25759    1.0\n",
       "u_0        0.99  5.8e-4   0.09    1.0    1.0    1.0    1.0    1.0  22428    1.0\n",
       "u_1        0.62  2.8e-3   0.49    0.0    0.0    1.0    1.0    1.0  30000    1.0\n",
       "lp__     -30.58    0.01   1.46 -34.29 -31.31 -30.25  -29.5 -28.74  12562    1.0\n",
       "\n",
       "Samples were drawn using NUTS at Sun Aug 12 09:38:54 2018.\n",
       "For each parameter, n_eff is a crude measure of effective sample size,\n",
       "and Rhat is the potential scale reduction factor on split chains (at \n",
       "convergence, Rhat=1)."
      ]
     },
     "execution_count": 79,
     "metadata": {},
     "output_type": "execute_result"
    }
   ],
   "source": [
    "fit"
   ]
  },
  {
   "cell_type": "code",
   "execution_count": null,
   "metadata": {},
   "outputs": [],
   "source": []
  }
 ],
 "metadata": {
  "kernelspec": {
   "display_name": "Python 3",
   "language": "python",
   "name": "python3"
  },
  "language_info": {
   "codemirror_mode": {
    "name": "ipython",
    "version": 3
   },
   "file_extension": ".py",
   "mimetype": "text/x-python",
   "name": "python",
   "nbconvert_exporter": "python",
   "pygments_lexer": "ipython3",
   "version": "3.6.5"
  }
 },
 "nbformat": 4,
 "nbformat_minor": 2
}
