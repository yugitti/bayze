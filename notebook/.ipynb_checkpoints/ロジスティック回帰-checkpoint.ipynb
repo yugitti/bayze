{
 "cells": [
  {
   "cell_type": "code",
   "execution_count": 1,
   "metadata": {
    "collapsed": true
   },
   "outputs": [],
   "source": [
    "import pandas as pd\n",
    "import matplotlib.pyplot as plt\n",
    "import numpy as np\n",
    "import pystan\n",
    "from scipy.stats import mstats\n",
    "%matplotlib inline"
   ]
  },
  {
   "cell_type": "code",
   "execution_count": 2,
   "metadata": {
    "collapsed": true
   },
   "outputs": [],
   "source": [
    "plt.style.use(\"ggplot\")"
   ]
  },
  {
   "cell_type": "code",
   "execution_count": 3,
   "metadata": {
    "collapsed": true
   },
   "outputs": [],
   "source": [
    "df = pd.read_excel(\"./data/dose_response.xlsx\")"
   ]
  },
  {
   "cell_type": "code",
   "execution_count": 4,
   "metadata": {},
   "outputs": [
    {
     "data": {
      "text/html": [
       "<div>\n",
       "<style>\n",
       "    .dataframe thead tr:only-child th {\n",
       "        text-align: right;\n",
       "    }\n",
       "\n",
       "    .dataframe thead th {\n",
       "        text-align: left;\n",
       "    }\n",
       "\n",
       "    .dataframe tbody tr th {\n",
       "        vertical-align: top;\n",
       "    }\n",
       "</style>\n",
       "<table border=\"1\" class=\"dataframe\">\n",
       "  <thead>\n",
       "    <tr style=\"text-align: right;\">\n",
       "      <th></th>\n",
       "      <th>log10 C</th>\n",
       "      <th>death</th>\n",
       "    </tr>\n",
       "  </thead>\n",
       "  <tbody>\n",
       "    <tr>\n",
       "      <th>0</th>\n",
       "      <td>0.95</td>\n",
       "      <td>0</td>\n",
       "    </tr>\n",
       "    <tr>\n",
       "      <th>1</th>\n",
       "      <td>0.94</td>\n",
       "      <td>0</td>\n",
       "    </tr>\n",
       "    <tr>\n",
       "      <th>2</th>\n",
       "      <td>0.95</td>\n",
       "      <td>0</td>\n",
       "    </tr>\n",
       "    <tr>\n",
       "      <th>3</th>\n",
       "      <td>0.96</td>\n",
       "      <td>0</td>\n",
       "    </tr>\n",
       "    <tr>\n",
       "      <th>4</th>\n",
       "      <td>0.99</td>\n",
       "      <td>0</td>\n",
       "    </tr>\n",
       "  </tbody>\n",
       "</table>\n",
       "</div>"
      ],
      "text/plain": [
       "   log10 C  death\n",
       "0     0.95      0\n",
       "1     0.94      0\n",
       "2     0.95      0\n",
       "3     0.96      0\n",
       "4     0.99      0"
      ]
     },
     "execution_count": 4,
     "metadata": {},
     "output_type": "execute_result"
    }
   ],
   "source": [
    "df.head()"
   ]
  },
  {
   "cell_type": "code",
   "execution_count": 5,
   "metadata": {},
   "outputs": [
    {
     "data": {
      "text/plain": [
       "<matplotlib.collections.PathCollection at 0x296e2b7f6a0>"
      ]
     },
     "execution_count": 5,
     "metadata": {},
     "output_type": "execute_result"
    },
    {
     "data": {
      "image/png": "[encoded data removed]",
      "text/plain": [
       "<matplotlib.figure.Figure at 0x296e28b1128>"
      ]
     },
     "metadata": {},
     "output_type": "display_data"
    }
   ],
   "source": [
    "plt.scatter(df[\"log10 C\"], df[\"death\"])"
   ]
  },
  {
   "cell_type": "code",
   "execution_count": 6,
   "metadata": {
    "collapsed": true
   },
   "outputs": [],
   "source": [
    "stan_model = \"\"\"\n",
    "data {\n",
    "  int N;\n",
    "  real X[N];\n",
    "  int<lower=0, upper=1> Y[N];\n",
    "}\n",
    "\n",
    "parameters {\n",
    "  real a;\n",
    "  real b;\n",
    "}\n",
    "\n",
    "model {\n",
    "  for (n in 1:N){\n",
    "    Y[n] ~ bernoulli_logit(a * X[n] + b);\n",
    "  }\n",
    "}\n",
    "\n",
    "\"\"\""
   ]
  },
  {
   "cell_type": "code",
   "execution_count": 7,
   "metadata": {},
   "outputs": [
    {
     "name": "stderr",
     "output_type": "stream",
     "text": [
      "INFO:pystan:COMPILING THE C++ CODE FOR MODEL anon_model_2ceeea67f566a1f79865245e63738ff6 NOW.\n"
     ]
    }
   ],
   "source": [
    "sm = pystan.StanModel(model_code= stan_model)"
   ]
  },
  {
   "cell_type": "code",
   "execution_count": 8,
   "metadata": {
    "collapsed": true
   },
   "outputs": [],
   "source": [
    "stan_data = {\"N\":df.shape[0], \"X\":df[\"log10 C\"], \"Y\":df[\"death\"]}"
   ]
  },
  {
   "cell_type": "code",
   "execution_count": 9,
   "metadata": {
    "collapsed": true
   },
   "outputs": [],
   "source": [
    "fit = sm.sampling(data = stan_data, iter = 2000, warmup=500, chains=3, seed=123)"
   ]
  },
  {
   "cell_type": "code",
   "execution_count": 10,
   "metadata": {},
   "outputs": [
    {
     "data": {
      "text/plain": [
       "Inference for Stan model: anon_model_2ceeea67f566a1f79865245e63738ff6.\n",
       "3 chains, each with iter=2000; warmup=500; thin=1; \n",
       "post-warmup draws per chain=1500, total post-warmup draws=4500.\n",
       "\n",
       "       mean se_mean     sd   2.5%    25%    50%    75%  97.5%  n_eff   Rhat\n",
       "a     13.57    0.13   3.36   8.02  11.21  13.26  15.53  21.53    669    1.0\n",
       "b    -20.27     0.2   5.09 -32.16 -23.17  -19.8 -16.71 -11.88    675    1.0\n",
       "lp__  -14.9    0.03   1.03 -17.77 -15.29 -14.58 -14.17  -13.9    911    1.0\n",
       "\n",
       "Samples were drawn using NUTS at Sun Feb 18 18:07:29 2018.\n",
       "For each parameter, n_eff is a crude measure of effective sample size,\n",
       "and Rhat is the potential scale reduction factor on split chains (at \n",
       "convergence, Rhat=1)."
      ]
     },
     "execution_count": 10,
     "metadata": {},
     "output_type": "execute_result"
    }
   ],
   "source": [
    "fit"
   ]
  },
  {
   "cell_type": "code",
   "execution_count": 11,
   "metadata": {
    "collapsed": true
   },
   "outputs": [],
   "source": [
    "a, b = 13.57, -20.27"
   ]
  },
  {
   "cell_type": "code",
   "execution_count": 12,
   "metadata": {},
   "outputs": [
    {
     "data": {
      "image/png": "[encoded data removed]",
      "text/plain": [
       "<matplotlib.figure.Figure at 0x296e4efe5f8>"
      ]
     },
     "metadata": {},
     "output_type": "display_data"
    }
   ],
   "source": [
    "fig = fit.plot()"
   ]
  },
  {
   "cell_type": "code",
   "execution_count": 13,
   "metadata": {
    "collapsed": true
   },
   "outputs": [],
   "source": [
    "ms_a = fit.extract(\"a\")[\"a\"]\n",
    "ms_b = fit.extract(\"b\")[\"b\"]"
   ]
  },
  {
   "cell_type": "code",
   "execution_count": 14,
   "metadata": {},
   "outputs": [],
   "source": [
    "x = np.arange(1.0, 2.0, 0.01)\n",
    "f = lambda x : 1.0 / (1.0 + np.exp(-x))\n",
    "df_b = pd.DataFrame([])\n",
    "for i in range(x.shape[0]):\n",
    "    df_b[i] = f(ms_a * x[i] + ms_b)"
   ]
  },
  {
   "cell_type": "code",
   "execution_count": 15,
   "metadata": {},
   "outputs": [
    {
     "data": {
      "text/html": [
       "<div>\n",
       "<style>\n",
       "    .dataframe thead tr:only-child th {\n",
       "        text-align: right;\n",
       "    }\n",
       "\n",
       "    .dataframe thead th {\n",
       "        text-align: left;\n",
       "    }\n",
       "\n",
       "    .dataframe tbody tr th {\n",
       "        vertical-align: top;\n",
       "    }\n",
       "</style>\n",
       "<table border=\"1\" class=\"dataframe\">\n",
       "  <thead>\n",
       "    <tr style=\"text-align: right;\">\n",
       "      <th></th>\n",
       "      <th>0</th>\n",
       "      <th>1</th>\n",
       "      <th>2</th>\n",
       "      <th>3</th>\n",
       "      <th>4</th>\n",
       "      <th>5</th>\n",
       "      <th>6</th>\n",
       "      <th>7</th>\n",
       "      <th>8</th>\n",
       "      <th>9</th>\n",
       "      <th>...</th>\n",
       "      <th>90</th>\n",
       "      <th>91</th>\n",
       "      <th>92</th>\n",
       "      <th>93</th>\n",
       "      <th>94</th>\n",
       "      <th>95</th>\n",
       "      <th>96</th>\n",
       "      <th>97</th>\n",
       "      <th>98</th>\n",
       "      <th>99</th>\n",
       "    </tr>\n",
       "  </thead>\n",
       "  <tbody>\n",
       "    <tr>\n",
       "      <th>0</th>\n",
       "      <td>0.003892</td>\n",
       "      <td>0.004330</td>\n",
       "      <td>0.004817</td>\n",
       "      <td>0.005359</td>\n",
       "      <td>0.005961</td>\n",
       "      <td>0.006630</td>\n",
       "      <td>0.007374</td>\n",
       "      <td>0.008201</td>\n",
       "      <td>0.009119</td>\n",
       "      <td>0.010140</td>\n",
       "      <td>...</td>\n",
       "      <td>0.983580</td>\n",
       "      <td>0.985223</td>\n",
       "      <td>0.986704</td>\n",
       "      <td>0.988038</td>\n",
       "      <td>0.989240</td>\n",
       "      <td>0.990322</td>\n",
       "      <td>0.991296</td>\n",
       "      <td>0.992173</td>\n",
       "      <td>0.992962</td>\n",
       "      <td>0.993672</td>\n",
       "    </tr>\n",
       "    <tr>\n",
       "      <th>1</th>\n",
       "      <td>0.004538</td>\n",
       "      <td>0.005108</td>\n",
       "      <td>0.005749</td>\n",
       "      <td>0.006471</td>\n",
       "      <td>0.007282</td>\n",
       "      <td>0.008193</td>\n",
       "      <td>0.009218</td>\n",
       "      <td>0.010370</td>\n",
       "      <td>0.011664</td>\n",
       "      <td>0.013117</td>\n",
       "      <td>...</td>\n",
       "      <td>0.995084</td>\n",
       "      <td>0.995633</td>\n",
       "      <td>0.996120</td>\n",
       "      <td>0.996554</td>\n",
       "      <td>0.996939</td>\n",
       "      <td>0.997281</td>\n",
       "      <td>0.997585</td>\n",
       "      <td>0.997855</td>\n",
       "      <td>0.998095</td>\n",
       "      <td>0.998308</td>\n",
       "    </tr>\n",
       "    <tr>\n",
       "      <th>2</th>\n",
       "      <td>0.000570</td>\n",
       "      <td>0.000667</td>\n",
       "      <td>0.000780</td>\n",
       "      <td>0.000913</td>\n",
       "      <td>0.001068</td>\n",
       "      <td>0.001250</td>\n",
       "      <td>0.001463</td>\n",
       "      <td>0.001712</td>\n",
       "      <td>0.002003</td>\n",
       "      <td>0.002344</td>\n",
       "      <td>...</td>\n",
       "      <td>0.998764</td>\n",
       "      <td>0.998944</td>\n",
       "      <td>0.999098</td>\n",
       "      <td>0.999229</td>\n",
       "      <td>0.999341</td>\n",
       "      <td>0.999437</td>\n",
       "      <td>0.999519</td>\n",
       "      <td>0.999589</td>\n",
       "      <td>0.999649</td>\n",
       "      <td>0.999700</td>\n",
       "    </tr>\n",
       "    <tr>\n",
       "      <th>3</th>\n",
       "      <td>0.000280</td>\n",
       "      <td>0.000332</td>\n",
       "      <td>0.000392</td>\n",
       "      <td>0.000464</td>\n",
       "      <td>0.000549</td>\n",
       "      <td>0.000649</td>\n",
       "      <td>0.000768</td>\n",
       "      <td>0.000909</td>\n",
       "      <td>0.001075</td>\n",
       "      <td>0.001271</td>\n",
       "      <td>...</td>\n",
       "      <td>0.999045</td>\n",
       "      <td>0.999193</td>\n",
       "      <td>0.999318</td>\n",
       "      <td>0.999423</td>\n",
       "      <td>0.999512</td>\n",
       "      <td>0.999588</td>\n",
       "      <td>0.999652</td>\n",
       "      <td>0.999706</td>\n",
       "      <td>0.999751</td>\n",
       "      <td>0.999790</td>\n",
       "    </tr>\n",
       "    <tr>\n",
       "      <th>4</th>\n",
       "      <td>0.002761</td>\n",
       "      <td>0.003085</td>\n",
       "      <td>0.003448</td>\n",
       "      <td>0.003853</td>\n",
       "      <td>0.004305</td>\n",
       "      <td>0.004810</td>\n",
       "      <td>0.005374</td>\n",
       "      <td>0.006004</td>\n",
       "      <td>0.006707</td>\n",
       "      <td>0.007491</td>\n",
       "      <td>...</td>\n",
       "      <td>0.984320</td>\n",
       "      <td>0.985950</td>\n",
       "      <td>0.987413</td>\n",
       "      <td>0.988725</td>\n",
       "      <td>0.989902</td>\n",
       "      <td>0.990957</td>\n",
       "      <td>0.991903</td>\n",
       "      <td>0.992751</td>\n",
       "      <td>0.993510</td>\n",
       "      <td>0.994191</td>\n",
       "    </tr>\n",
       "  </tbody>\n",
       "</table>\n",
       "<p>5 rows × 100 columns</p>\n",
       "</div>"
      ],
      "text/plain": [
       "         0         1         2         3         4         5         6   \\\n",
       "0  0.003892  0.004330  0.004817  0.005359  0.005961  0.006630  0.007374   \n",
       "1  0.004538  0.005108  0.005749  0.006471  0.007282  0.008193  0.009218   \n",
       "2  0.000570  0.000667  0.000780  0.000913  0.001068  0.001250  0.001463   \n",
       "3  0.000280  0.000332  0.000392  0.000464  0.000549  0.000649  0.000768   \n",
       "4  0.002761  0.003085  0.003448  0.003853  0.004305  0.004810  0.005374   \n",
       "\n",
       "         7         8         9     ...           90        91        92  \\\n",
       "0  0.008201  0.009119  0.010140    ...     0.983580  0.985223  0.986704   \n",
       "1  0.010370  0.011664  0.013117    ...     0.995084  0.995633  0.996120   \n",
       "2  0.001712  0.002003  0.002344    ...     0.998764  0.998944  0.999098   \n",
       "3  0.000909  0.001075  0.001271    ...     0.999045  0.999193  0.999318   \n",
       "4  0.006004  0.006707  0.007491    ...     0.984320  0.985950  0.987413   \n",
       "\n",
       "         93        94        95        96        97        98        99  \n",
       "0  0.988038  0.989240  0.990322  0.991296  0.992173  0.992962  0.993672  \n",
       "1  0.996554  0.996939  0.997281  0.997585  0.997855  0.998095  0.998308  \n",
       "2  0.999229  0.999341  0.999437  0.999519  0.999589  0.999649  0.999700  \n",
       "3  0.999423  0.999512  0.999588  0.999652  0.999706  0.999751  0.999790  \n",
       "4  0.988725  0.989902  0.990957  0.991903  0.992751  0.993510  0.994191  \n",
       "\n",
       "[5 rows x 100 columns]"
      ]
     },
     "execution_count": 15,
     "metadata": {},
     "output_type": "execute_result"
    }
   ],
   "source": [
    "df_b.head()"
   ]
  },
  {
   "cell_type": "code",
   "execution_count": 16,
   "metadata": {
    "collapsed": true
   },
   "outputs": [],
   "source": [
    "low_y50, high_y50 = mstats.mquantiles(df_b, [0.25, 0.75], axis=0)\n",
    "low_y95, high_y95 = mstats.mquantiles(df_b, [0.025, 0.975], axis=0)"
   ]
  },
  {
   "cell_type": "code",
   "execution_count": 17,
   "metadata": {},
   "outputs": [
    {
     "data": {
      "text/plain": [
       "[<matplotlib.lines.Line2D at 0x296e4d66ef0>]"
      ]
     },
     "execution_count": 17,
     "metadata": {},
     "output_type": "execute_result"
    },
    {
     "data": {
      "image/png": "[encoded data removed]",
      "text/plain": [
       "<matplotlib.figure.Figure at 0x296e4db05c0>"
      ]
     },
     "metadata": {},
     "output_type": "display_data"
    }
   ],
   "source": [
    "plt.scatter(df[\"log10 C\"], df[\"death\"])\n",
    "plt.fill_between(x, low_y95, high_y95, alpha = 0.3, color = \"gray\")\n",
    "plt.fill_between(x, low_y50, high_y50, alpha = 0.6, color = \"darkgray\")\n",
    "plt.plot(x, f(a*x+b))"
   ]
  },
  {
   "cell_type": "code",
   "execution_count": null,
   "metadata": {
    "collapsed": true
   },
   "outputs": [],
   "source": []
  }
 ],
 "metadata": {
  "kernelspec": {
   "display_name": "Python 3",
   "language": "python",
   "name": "python3"
  },
  "language_info": {
   "codemirror_mode": {
    "name": "ipython",
    "version": 3
   },
   "file_extension": ".py",
   "mimetype": "text/x-python",
   "name": "python",
   "nbconvert_exporter": "python",
   "pygments_lexer": "ipython3",
   "version": "3.6.3"
  }
 },
 "nbformat": 4,
 "nbformat_minor": 2
}
